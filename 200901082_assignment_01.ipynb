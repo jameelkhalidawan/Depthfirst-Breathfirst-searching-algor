{
  "cells": [
    {
      "cell_type": "code",
      "execution_count": 4,
      "metadata": {
        "colab": {
          "base_uri": "https://localhost:8080/"
        },
        "id": "9r0nYdKsWABK",
        "outputId": "91095834-1a92-4f83-df8e-d996dc135224"
      },
      "outputs": [
        {
          "output_type": "stream",
          "name": "stdout",
          "text": [
            "enter starting city: Arad\n",
            "enter stoping city: Bucharest\n",
            "\n",
            "DepthFS:  ['Arad', 'Zerind', 'Oradea', 'Sibiu', 'Fagaras', 'Bucharest']\n",
            "\n",
            "BreadthFS:  ['Arad', 'Sibiu', 'Fagaras', 'Bucharest']\n"
          ]
        }
      ],
      "source": [
        "romanian = { #defined dictionary\n",
        " \"Arad\": {\"Sibiu\": 140, \"Timisoara\": 118, \"Zerind\": 75 },\n",
        " \"Bucharest\": {\"Pitesti\": 101,\"Giurgiu\": 90, \"Urziceni\": 85, \"Fagaras\": 211},\n",
        " \"Oradea\": {\"Zerind\": 71, \"Sibiu\": 151},\n",
        " \"Zerind\": {\"Oradea\": 71, \"Arad\": 75},\n",
        " \"Craiova\": {\"Drobeta\": 120, \"Rimnicu Vilcea\": 146, \"Pitesti\": 138},\n",
        " \"Rimnicu Vilcea\": {\"Craiova\": 146, \"Sibiu\": 80, \"Pitesti\": 97},\n",
        " \"Timisoara\": {\"Arad\": 118, \"Lugoj\": 111},\n",
        " \"Lugoj\": {\"Timisoara\": 111, \"Mehadia\": 70},\n",
        " \"Fagaras\": {\"Sibiu\": 99, \"Bucharest\": 211},\n",
        " \"Drobeta\": {\"Mehadia\": 75, \"Craiova\": 120},\n",
        " \"Hirsova\": {\"Urziceni\": 98, \"Eforie\": 86},\n",
        " \"Mehadia\": {\"Lugoj\": 70, \"Drobeta\": 75},\n",
        " \"Giurgiu\": {\"Bucharest\": 90},\n",
        " \"Urziceni\": {\"Bucharest\": 85, \"Hirsova\": 98, \"Vaslui\": 142},\n",
        " \"Eforie\": {\"Hirsova\": 86},\n",
        " \"Neamt\": {\"Iasi\": 87},\n",
        " \"Vaslui\": {\"Urziceni\": 142, \"Iasi\": 92},\n",
        " \"Iasi\": {\"Vaslui\": 92, \"Neamt\": 87},\n",
        " \"Pitesti\": {\"Craiova\": 138, \"Rimnicu Vilcea\": 97, \"Bucharest\": 101},\n",
        " \"Sibiu\": {\"Oradea\": 151, \"Arad\": 140, \"Rimnicu Vilcea\": 80, \"Fagaras\": 99},\n",
        "}\n",
        "#depth first function\n",
        "def Depth_First( start, stop):\n",
        "    exploredCity = set()     \n",
        "    stack = [(start, [start])] \n",
        "    while stack:#first in last out\n",
        "        (city, path) = stack.pop() \n",
        "        if city not in exploredCity:\n",
        "            if city == stop:\n",
        "                return path   \n",
        "            exploredCity.add(city)\n",
        "            for nextCity in romanian[city]:\n",
        "                stack.append((nextCity, path + [nextCity]))\n",
        "#depth first function\n",
        "def Breadth_First( start, stop):\n",
        "    exploredCity = set()\n",
        "    queue = [[start]]\n",
        "    while queue:\n",
        "        path = queue.pop(0)\n",
        "        city = path[-1]\n",
        "        if city == stop:\n",
        "            return path\n",
        "        if city not in exploredCity:\n",
        "            exploredCity.add(city)\n",
        "            for nextCity in romanian[city]:\n",
        "                new_path = list(path)\n",
        "                new_path.append(nextCity)\n",
        "                queue.append(new_path)\n",
        "\n",
        "start = input(\"enter starting city: \")\n",
        "stop = input(\"enter stoping city: \")\n",
        "print(\"\\nDepthFS: \", Depth_First( start, stop))\n",
        "print(\"\\nBreadthFS: \", Breadth_First( start, stop))\n",
        "\n",
        "\n"
      ]
    }
  ],
  "metadata": {
    "kernelspec": {
      "display_name": "Python 3",
      "language": "python",
      "name": "python3"
    },
    "language_info": {
      "codemirror_mode": {
        "name": "ipython",
        "version": 3
      },
      "file_extension": ".py",
      "mimetype": "text/x-python",
      "name": "python",
      "nbconvert_exporter": "python",
      "pygments_lexer": "ipython3",
      "version": "3.9.13"
    },
    "orig_nbformat": 4,
    "vscode": {
      "interpreter": {
        "hash": "f6c8f846148a3e4d140e6ddf63c190cff559dcf260a4a21539f0978f2b58638c"
      }
    },
    "colab": {
      "provenance": []
    }
  },
  "nbformat": 4,
  "nbformat_minor": 0
}